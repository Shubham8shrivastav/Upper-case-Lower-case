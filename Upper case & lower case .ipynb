{
 "cells": [
  {
   "cell_type": "code",
   "execution_count": 3,
   "id": "41d81d66",
   "metadata": {},
   "outputs": [
    {
     "name": "stdout",
     "output_type": "stream",
     "text": [
      "No. of Upper case characters : 3,\n",
      " No. of Lower case characters : 12\n"
     ]
    }
   ],
   "source": [
    "def str(s):      \n",
    "    u = sum(1 for i in s if i.isupper()) #using list comprehension for upper case\n",
    "    l = sum(1 for i in s if i.islower())  #using list comprehension for lower case\n",
    "    print( \"No. of Upper case characters : %s,\\n No. of Lower case characters : %s\" %(u,l))\n",
    "\n",
    "str(\"The quick Brow Fox\")"
   ]
  }
 ],
 "metadata": {
  "kernelspec": {
   "display_name": "Python 3 (ipykernel)",
   "language": "python",
   "name": "python3"
  },
  "language_info": {
   "codemirror_mode": {
    "name": "ipython",
    "version": 3
   },
   "file_extension": ".py",
   "mimetype": "text/x-python",
   "name": "python",
   "nbconvert_exporter": "python",
   "pygments_lexer": "ipython3",
   "version": "3.10.1"
  }
 },
 "nbformat": 4,
 "nbformat_minor": 5
}
